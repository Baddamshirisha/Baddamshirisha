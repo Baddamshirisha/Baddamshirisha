{
  "nbformat": 4,
  "nbformat_minor": 0,
  "metadata": {
    "colab": {
      "name": "ICP5_big_data_main.ipynb",
      "provenance": [],
      "collapsed_sections": []
    },
    "kernelspec": {
      "name": "python3",
      "display_name": "Python 3"
    },
    "language_info": {
      "name": "python"
    }
  },
  "cells": [
    {
      "cell_type": "markdown",
      "source": [
        "numpy : Numpy is used to perform wide variety of mathematical operations on arrays.\n",
        "\n",
        "TensorFlow: It provides a collection of workflows to develop and train models using Python.TensorFlow is mainly used for: Classification, Perception, Understanding, Discovering, Prediction and Creation. \n",
        "\n",
        "Matplotlib. pyplot: It is a collection of functions that make matplotlib.It is a library for data visualization, typically in the form of plots, graphs and charts.\n",
        "\n",
        "Platform: The Platform module is used to retrieve as much possible information about the platform on which the program is being currently executed. Python defines an in-built module platform that provides system information.\n",
        "\n",
        "TensorFlow Datasets:It is a collection of datasets ready to use, with TensorFlow,All datasets are exposed as tf. data. Datasets , enabling easy-to-use and high-performance input pipelines.\n",
        "\n",
        "TIme: The Python time module provides many ways of representing time in code, such as objects, numbers,strings and also provides functionality other than representing time, like waiting during code execution and measuring the efficiency of your code.\n",
        "\n",
        "\n",
        "\n",
        "\n",
        "\n",
        "\n",
        "\n"
      ],
      "metadata": {
        "id": "j-0Pd7pUf7KZ"
      }
    },
    {
      "cell_type": "code",
      "execution_count": null,
      "metadata": {
        "id": "hEc70Nw7_8pL"
      },
      "outputs": [],
      "source": [
        "import tensorflow as tf\n",
        "import tensorflow_datasets as tfds\n",
        "import matplotlib.pyplot as plt\n",
        "import numpy as np\n",
        "import platform\n",
        "import time\n",
        "import pathlib\n",
        "import os"
      ]
    },
    {
      "cell_type": "markdown",
      "source": [
        "Downloaded the data\n",
        "\n",
        "DATASET_NAME"
      ],
      "metadata": {
        "id": "g1WPGKxuvvHv"
      }
    },
    {
      "cell_type": "code",
      "source": [
        "# Loading the wikipedia dataset.\n",
        "DATASET_NAME = 'wikipedia/20190301.en'\n",
        "# DATASET_NAME = 'wikipedia/20190301.uk'\n",
        "\n",
        "dataset, dataset_info = tfds.load(\n",
        "    name=DATASET_NAME,\n",
        "    data_dir='tmp',\n",
        "    with_info=True,\n",
        "    split=tfds.Split.TRAIN,\n",
        ")"
      ],
      "metadata": {
        "id": "bbk_uY_SAbq6"
      },
      "execution_count": null,
      "outputs": []
    },
    {
      "cell_type": "markdown",
      "source": [
        "Total number of articles in it"
      ],
      "metadata": {
        "id": "yE8odOLfwOz2"
      }
    },
    {
      "cell_type": "code",
      "source": [
        "TRAIN_NUM_EXAMPLES = dataset_info.splits['train'].num_examples\n",
        "print('Total number of articles: ', TRAIN_NUM_EXAMPLES)"
      ],
      "metadata": {
        "colab": {
          "base_uri": "https://localhost:8080/"
        },
        "id": "mu68tYrcAktm",
        "outputId": "4fa46928-89de-4488-8f64-03bbcb1627d3"
      },
      "execution_count": null,
      "outputs": [
        {
          "output_type": "stream",
          "name": "stdout",
          "text": [
            "Total number of articles:  5824596\n"
          ]
        }
      ]
    },
    {
      "cell_type": "markdown",
      "source": [
        "Read the data\n",
        "\n",
        "Take 500 characters in text"
      ],
      "metadata": {
        "id": "KdLHWIN2xlAq"
      }
    },
    {
      "cell_type": "code",
      "source": [
        "text=\"\"\n",
        "for example in dataset.take(500):\n",
        "  text+=example['text'].numpy().decode(encoding='utf-8')\n",
        "text[:1000]"
      ],
      "metadata": {
        "colab": {
          "base_uri": "https://localhost:8080/",
          "height": 122
        },
        "id": "ow2HZJeHAmd0",
        "outputId": "8fe5d7fa-b7a9-40a3-a245-f2cff7f5d963"
      },
      "execution_count": null,
      "outputs": [
        {
          "output_type": "execute_result",
          "data": {
            "application/vnd.google.colaboratory.intrinsic+json": {
              "type": "string"
            },
            "text/plain": [
              "'Joseph Harold Greenberg (May 28, 1915 – May 7, 2001) was an American linguist, known mainly for his work concerning linguistic typology and the genetic classification of languages.\\n\\nLife\\n\\nEarly life and education \\n(Main source: Croft 2003)\\n\\nJoseph Greenberg was born on May 28, 1915 to Jewish parents in Brooklyn, New York. His first great interest was music. At the age of 14, he gave a piano concert in Steinway Hall. He continued to play the piano frequently throughout his life.\\n\\nAfter finishing high school, he decided to pursue a scholarly career rather than a musical one. He enrolled at Columbia University in New York. During his senior year, he attended a class taught by Franz Boas concerning American Indian languages. With references from Boas and Ruth Benedict, he was accepted as a graduate student by Melville J. Herskovits at Northwestern University in Chicago. During the course of his graduate studies, Greenberg did fieldwork among the Hausa people of Nigeria, where he learned th'"
            ]
          },
          "metadata": {},
          "execution_count": 4
        }
      ]
    },
    {
      "cell_type": "markdown",
      "source": [
        "\n",
        "Length of the text"
      ],
      "metadata": {
        "id": "mEHRC2VVx1Ug"
      }
    },
    {
      "cell_type": "code",
      "source": [
        "len(text)"
      ],
      "metadata": {
        "colab": {
          "base_uri": "https://localhost:8080/"
        },
        "id": "cRdEXLbcArzR",
        "outputId": "67336a51-b041-45e8-cafe-f3b3689d0d5b"
      },
      "execution_count": null,
      "outputs": [
        {
          "output_type": "execute_result",
          "data": {
            "text/plain": [
              "1422915"
            ]
          },
          "metadata": {},
          "execution_count": 5
        }
      ]
    },
    {
      "cell_type": "markdown",
      "source": [
        "Here, We used vocabulary where Variable is a way of storing values into the memory of the computer by using specific names that you define.\n",
        "Printed the number of unique characters in the file."
      ],
      "metadata": {
        "id": "XWemaD9IyyJM"
      }
    },
    {
      "cell_type": "code",
      "source": [
        "vocab = sorted(set(text))\n",
        "print ('{} unique characters'.format(len(vocab)))"
      ],
      "metadata": {
        "colab": {
          "base_uri": "https://localhost:8080/"
        },
        "id": "MurF1ZKMNOna",
        "outputId": "98ad51c2-70a1-4dad-bef3-b7030bb15f01"
      },
      "execution_count": null,
      "outputs": [
        {
          "output_type": "stream",
          "name": "stdout",
          "text": [
            "396 unique characters\n"
          ]
        }
      ]
    },
    {
      "cell_type": "markdown",
      "source": [
        "Process the text\n",
        "\n",
        "Vectorize the text\n",
        "\n",
        "Before training, we need to map strings to a numerical representation. Create two lookup tables: one mapping characters to numbers, and another for numbers to characters."
      ],
      "metadata": {
        "id": "NHOuBdonzqxc"
      }
    },
    {
      "cell_type": "code",
      "source": [
        "# Creating a mapping from unique characters to indices\n",
        "char2idx = {u:i for i, u in enumerate(vocab)}\n",
        "idx2char = np.array(vocab)\n",
        "\n",
        "text_as_int = np.array([char2idx[c] for c in text])"
      ],
      "metadata": {
        "id": "8my8r9m6Ne9B"
      },
      "execution_count": null,
      "outputs": []
    },
    {
      "cell_type": "markdown",
      "source": [
        "Sequence Length is the length of the sequence of input data. \n",
        "\n",
        "Here, we're training the model to perform. The input to the model will be a sequence of characters, and we train the model to predict the output—the following character at each time step.\n",
        "\n",
        "Create training examples and targets\n",
        "\n",
        "Next divide the text into example sequences. From the text Each input sequence will contain seq_length characters.\n",
        "\n",
        "For each input sequence, the corresponding targets contain the same length of text, except shifted one character to the right.\n",
        "\n",
        "So the text is divided into chunks of seq_length+1. \n",
        "\n",
        "For example, say seq_length is 4 and our text is \"Hello\". The input sequence would be \"Hell\", and the target sequence \"ello\".\n"
      ],
      "metadata": {
        "id": "GeTt026t1v8g"
      }
    },
    {
      "cell_type": "code",
      "source": [
        "# The maximum length sentence we want for a single input in characters\n",
        "seq_length = 100\n",
        "examples_per_epoch = len(text)//(seq_length+1)\n",
        "# Create training examples / targets\n",
        "char_dataset = tf.data.Dataset.from_tensor_slices(text_as_int)\n",
        "for i in char_dataset.take(5):\n",
        "  print(idx2char[i.numpy()])"
      ],
      "metadata": {
        "colab": {
          "base_uri": "https://localhost:8080/"
        },
        "id": "MRBfXk8IVfRe",
        "outputId": "bd313216-424a-48f1-914e-d376e8a865aa"
      },
      "execution_count": null,
      "outputs": [
        {
          "output_type": "stream",
          "name": "stdout",
          "text": [
            "J\n",
            "o\n",
            "s\n",
            "e\n",
            "p\n"
          ]
        }
      ]
    },
    {
      "cell_type": "markdown",
      "source": [
        "By using batch method we converted these individual characters to sequences of the desired size."
      ],
      "metadata": {
        "id": "pLtxhwrK0FoV"
      }
    },
    {
      "cell_type": "code",
      "source": [
        "sequences = char_dataset.batch(seq_length+1, drop_remainder=True)\n",
        "\n",
        "for item in sequences.take(5):\n",
        "  print(repr(''.join(idx2char[item.numpy()])))"
      ],
      "metadata": {
        "colab": {
          "base_uri": "https://localhost:8080/"
        },
        "id": "FWgupkmGViwi",
        "outputId": "f7455adf-9038-4f22-b96f-004c65b773a2"
      },
      "execution_count": null,
      "outputs": [
        {
          "output_type": "stream",
          "name": "stdout",
          "text": [
            "'Joseph Harold Greenberg (May 28, 1915 – May 7, 2001) was an American linguist, known mainly for his w'\n",
            "'ork concerning linguistic typology and the genetic classification of languages.\\n\\nLife\\n\\nEarly life and'\n",
            "' education \\n(Main source: Croft 2003)\\n\\nJoseph Greenberg was born on May 28, 1915 to Jewish parents in'\n",
            "' Brooklyn, New York. His first great interest was music. At the age of 14, he gave a piano concert in'\n",
            "' Steinway Hall. He continued to play the piano frequently throughout his life.\\n\\nAfter finishing high '\n"
          ]
        }
      ]
    },
    {
      "cell_type": "markdown",
      "source": [
        "Map method is applied to a simple function to each batch for duplicate and shift it to form the input and target text for each sentence."
      ],
      "metadata": {
        "id": "xhcDAy-G1MTx"
      }
    },
    {
      "cell_type": "code",
      "source": [
        "def split_input_target(chunk):\n",
        "  input_text = chunk[:-1]\n",
        "  target_text = chunk[1:]\n",
        "  return input_text, target_text\n",
        "dataset = sequences.map(split_input_target)"
      ],
      "metadata": {
        "id": "GXi2WoHyVvg2"
      },
      "execution_count": null,
      "outputs": []
    },
    {
      "cell_type": "markdown",
      "source": [
        "Print Input data and Target data"
      ],
      "metadata": {
        "id": "Rw0EYA2c2lIN"
      }
    },
    {
      "cell_type": "code",
      "source": [
        "for input_example, target_example in  dataset.take(1):\n",
        "  print ('Input data: ', repr(''.join(idx2char[input_example.numpy()])))\n",
        "  print ('Target data:', repr(''.join(idx2char[target_example.numpy()])))"
      ],
      "metadata": {
        "colab": {
          "base_uri": "https://localhost:8080/"
        },
        "id": "0O47rtyTV1zZ",
        "outputId": "23ccffa7-ff5a-4a92-ab8b-476b671d1881"
      },
      "execution_count": null,
      "outputs": [
        {
          "output_type": "stream",
          "name": "stdout",
          "text": [
            "Input data:  'Joseph Harold Greenberg (May 28, 1915 – May 7, 2001) was an American linguist, known mainly for his '\n",
            "Target data: 'oseph Harold Greenberg (May 28, 1915 – May 7, 2001) was an American linguist, known mainly for his w'\n"
          ]
        }
      ]
    },
    {
      "cell_type": "markdown",
      "source": [
        "Batch_Size: as usual is the number of “concurrent items” you're going to feed into the model.\n",
        "\n",
        "Buffer_Size: It tells how much data can be held at a time until it is used.\n",
        "\n",
        "Prefitch_Size: It dictates how many messages will be held in RAM on the client.\n",
        "\n",
        "We created training batches, before that we shuffled the data and packed it into batches.\n"
      ],
      "metadata": {
        "id": "CEYCHA5q2FUQ"
      }
    },
    {
      "cell_type": "code",
      "source": [
        "BATCH_SIZE = 64\n",
        "BUFFER_SIZE = 100\n",
        "PREFETCH_SIZE = 10\n",
        "dataset=dataset.shuffle(BUFFER_SIZE).batch(BATCH_SIZE, drop_remainder=True).prefetch(PREFETCH_SIZE)\n",
        "dataset"
      ],
      "metadata": {
        "colab": {
          "base_uri": "https://localhost:8080/"
        },
        "id": "lVVromVkWDxP",
        "outputId": "3e27e32e-f35b-4c53-c27d-6f75d772a71a"
      },
      "execution_count": null,
      "outputs": [
        {
          "output_type": "execute_result",
          "data": {
            "text/plain": [
              "<PrefetchDataset element_spec=(TensorSpec(shape=(64, 100), dtype=tf.int64, name=None), TensorSpec(shape=(64, 100), dtype=tf.int64, name=None))>"
            ]
          },
          "metadata": {},
          "execution_count": 12
        }
      ]
    },
    {
      "cell_type": "markdown",
      "source": [
        "For defining the model we used tf.keras.Sequential\n",
        "\n",
        "Here, we used three Layers\n",
        "\n",
        "tf.keras.layers.Dense: The output layer, with vocab_size outputs.\n",
        "\n",
        "tf.keras.layers.Embedding: The input layer. A trainable lookup table that will map the numbers of each character to a vector with embedding_dim dimensions;\n",
        "\n",
        "tf.keras.layers.GRU: A type of RNN with size units=rnn_units (You can also use a LSTM layer here.)\n"
      ],
      "metadata": {
        "id": "5hDzwTu26z7T"
      }
    },
    {
      "cell_type": "code",
      "source": [
        "vocab_size = len(vocab)\n",
        "embedding_dim = 256\n",
        "rnn_units = 1024"
      ],
      "metadata": {
        "id": "rXb7YgnZW_vf"
      },
      "execution_count": null,
      "outputs": []
    },
    {
      "cell_type": "code",
      "source": [
        "def build_model(vocab_size, embedding_dim, rnn_units, batch_size):\n",
        "    model = tf.keras.models.Sequential()\n",
        "    model.add(tf.keras.layers.Embedding(\n",
        "      input_dim=vocab_size,\n",
        "      output_dim=embedding_dim,\n",
        "      batch_input_shape=[batch_size, None]\n",
        "    ))\n",
        "    model.add(tf.keras.layers.LSTM(\n",
        "      units=rnn_units,\n",
        "      return_sequences=True,\n",
        "      stateful=True,\n",
        "      recurrent_initializer=tf.keras.initializers.GlorotNormal()\n",
        "    ))\n",
        "    model.add(tf.keras.layers.Dense(vocab_size))\n",
        "    return model"
      ],
      "metadata": {
        "id": "3lxE0FK8XfcE"
      },
      "execution_count": null,
      "outputs": []
    },
    {
      "cell_type": "code",
      "source": [
        "model = build_model(vocab_size, embedding_dim, rnn_units, BATCH_SIZE)"
      ],
      "metadata": {
        "id": "FzMUewEeXi15"
      },
      "execution_count": null,
      "outputs": []
    },
    {
      "cell_type": "code",
      "source": [
        "model.summary()"
      ],
      "metadata": {
        "colab": {
          "base_uri": "https://localhost:8080/"
        },
        "id": "6583miE7XlFJ",
        "outputId": "93770a0d-2472-4998-f59f-8d8a5a8928c5"
      },
      "execution_count": null,
      "outputs": [
        {
          "output_type": "stream",
          "name": "stdout",
          "text": [
            "Model: \"sequential\"\n",
            "_________________________________________________________________\n",
            " Layer (type)                Output Shape              Param #   \n",
            "=================================================================\n",
            " embedding (Embedding)       (64, None, 256)           101376    \n",
            "                                                                 \n",
            " lstm (LSTM)                 (64, None, 1024)          5246976   \n",
            "                                                                 \n",
            " dense (Dense)               (64, None, 396)           405900    \n",
            "                                                                 \n",
            "=================================================================\n",
            "Total params: 5,754,252\n",
            "Trainable params: 5,754,252\n",
            "Non-trainable params: 0\n",
            "_________________________________________________________________\n"
          ]
        }
      ]
    },
    {
      "cell_type": "markdown",
      "source": [
        "Used tf.keras.utils.plot_model,It allowed to create a visualization of our Keras neural network.\n",
        "\n"
      ],
      "metadata": {
        "id": "c3S67hpwCMxb"
      }
    },
    {
      "cell_type": "code",
      "source": [
        "tf.keras.utils.plot_model(model,show_shapes=True,show_layer_names=True,)"
      ],
      "metadata": {
        "colab": {
          "base_uri": "https://localhost:8080/",
          "height": 422
        },
        "id": "TS7IMeIyXnTh",
        "outputId": "c99af575-49b9-4b7e-baeb-37dea2ad69ab"
      },
      "execution_count": null,
      "outputs": [
        {
          "output_type": "execute_result",
          "data": {
            "image/png": "[encoded data removed]",
            "text/plain": [
              "<IPython.core.display.Image object>"
            ]
          },
          "metadata": {},
          "execution_count": 17
        }
      ]
    },
    {
      "cell_type": "markdown",
      "source": [
        "Try the model\n",
        "\n",
        "Now run the model to see that it behaves as expected.\n",
        "\n",
        "First check the shape of the output:"
      ],
      "metadata": {
        "id": "5stNiKT13ecl"
      }
    },
    {
      "cell_type": "code",
      "source": [
        "for input_example_batch, target_example_batch in dataset.take(1):\n",
        "  example_batch_predictions = model(input_example_batch)\n",
        "  print(example_batch_predictions.shape, \"# (batch_size, sequence_length, vocab_size)\")"
      ],
      "metadata": {
        "colab": {
          "base_uri": "https://localhost:8080/"
        },
        "id": "F720dw4xXwcP",
        "outputId": "4e128390-2ea4-4ca9-b9d0-539dc5666811"
      },
      "execution_count": null,
      "outputs": [
        {
          "output_type": "stream",
          "name": "stdout",
          "text": [
            "(64, 100, 396) # (batch_size, sequence_length, vocab_size)\n"
          ]
        }
      ]
    },
    {
      "cell_type": "markdown",
      "source": [
        "tf.random categorical: It is used to create a random seed for the distribution. See tf. random. behaviour.\n",
        "\n",
        "tf. squeeze() function returns a tensor with the same value as its first argument, but a different shape."
      ],
      "metadata": {
        "id": "hf-WPeci35S9"
      }
    },
    {
      "cell_type": "code",
      "source": [
        "sampled_indices = tf.random.categorical(example_batch_predictions[0], num_samples=1)\n",
        "sampled_indices = tf.squeeze(sampled_indices,axis=-1).numpy()\n",
        "sampled_indices"
      ],
      "metadata": {
        "colab": {
          "base_uri": "https://localhost:8080/"
        },
        "id": "d7gVK-ZmX24x",
        "outputId": "b3d2b600-0c05-480c-88df-10b2f294f0eb"
      },
      "execution_count": null,
      "outputs": [
        {
          "output_type": "execute_result",
          "data": {
            "text/plain": [
              "array([ 15, 242, 223, 309,  95,   0, 347, 345, 298,  68, 292, 166, 243,\n",
              "       286,  20, 121, 315, 193, 375, 117, 261,  68, 300, 342,  46,  66,\n",
              "       196,  43, 297, 197, 122, 359, 309, 141, 153, 154, 387, 229, 312,\n",
              "       124,  42, 307, 197,  10, 170, 269, 130, 164, 242, 102, 165, 332,\n",
              "        12, 163, 317, 177, 266,  26, 383,  61, 274, 164,  72, 225, 168,\n",
              "       352, 365,  23, 300,   8,  71,  64, 348, 146, 320, 237, 214,   7,\n",
              "       136,  49,  28, 270, 366, 220, 379, 275, 244, 259, 245, 125,   6,\n",
              "       156, 318, 128, 326,  29, 332, 148, 277, 346])"
            ]
          },
          "metadata": {},
          "execution_count": 19
        }
      ]
    },
    {
      "cell_type": "markdown",
      "source": [
        "Attach an optimizer, and a loss function The standard tf.keras.losses.sparse_categorical_crossentropy loss function works in this case because it is applied across the last dimension of the predictions.\n",
        "\n",
        "Print Prediction shape and Scalar_loss"
      ],
      "metadata": {
        "id": "1YSpoX3c5dy9"
      }
    },
    {
      "cell_type": "code",
      "source": [
        "def loss(labels, logits):\n",
        "  return tf.keras.losses.sparse_categorical_crossentropy(labels, logits, from_logits=True)\n",
        "\n",
        "example_batch_loss  = loss(target_example_batch, example_batch_predictions)\n",
        "print(\"Prediction shape: \", example_batch_predictions.shape, \" # (batch_size, sequence_length, vocab_size)\")\n",
        "print(\"scalar_loss:      \", example_batch_loss.numpy().mean())"
      ],
      "metadata": {
        "colab": {
          "base_uri": "https://localhost:8080/"
        },
        "id": "TBScHOE3Zc4i",
        "outputId": "a24dd7af-db28-478c-dfc6-c91730182a7b"
      },
      "execution_count": null,
      "outputs": [
        {
          "output_type": "stream",
          "name": "stdout",
          "text": [
            "Prediction shape:  (64, 100, 396)  # (batch_size, sequence_length, vocab_size)\n",
            "scalar_loss:       5.981655\n"
          ]
        }
      ]
    },
    {
      "cell_type": "markdown",
      "source": [
        "Adam Optimizer: It is used to accelerate the gradient descent algorithm by taking into consideration the 'exponentially weighted average' of the gradients with default arguments and the loss function."
      ],
      "metadata": {
        "id": "X2CSomni5w1U"
      }
    },
    {
      "cell_type": "code",
      "source": [
        "adam_optimizer = tf.keras.optimizers.Adam(learning_rate=0.001)\n",
        "model.compile(optimizer=adam_optimizer,loss=loss)"
      ],
      "metadata": {
        "id": "y02RqsTQZtmC"
      },
      "execution_count": null,
      "outputs": []
    },
    {
      "cell_type": "markdown",
      "source": [
        "The checkpoint may be used directly, or used as the starting point for a new run, picking up where it left off.\n",
        "\n",
        "ModelCheckpoint callback is used in conjunction with training using model.the callback supports saving at the end of every epoch, or after a fixed number of training batches."
      ],
      "metadata": {
        "id": "Iv85iO986k5K"
      }
    },
    {
      "cell_type": "code",
      "source": [
        "# Directory where the checkpoints will be saved\n",
        "checkpoint_dir = './training_checkpoints'\n",
        "# Name of the checkpoint files\n",
        "checkpoint_prefix = os.path.join(checkpoint_dir, \"ckpt_{epoch}\")\n",
        "\n",
        "checkpoint_callback=tf.keras.callbacks.ModelCheckpoint(\n",
        "    filepath=checkpoint_prefix,\n",
        "    save_weights_only=True)"
      ],
      "metadata": {
        "id": "UwlOekwCZ-RG"
      },
      "execution_count": null,
      "outputs": []
    },
    {
      "cell_type": "markdown",
      "source": [
        "To train the model we are using 50 epochs to keep training and also we used  10 steps_per_epoch."
      ],
      "metadata": {
        "id": "GgNg7J9X7h0v"
      }
    },
    {
      "cell_type": "code",
      "source": [
        "EPOCHS=50\n",
        "STEPS_PER_EPOCH = 10\n",
        "tmp_dataset = dataset.repeat()\n",
        "history = model.fit(x=tmp_dataset.as_numpy_iterator(),epochs=EPOCHS,steps_per_epoch=STEPS_PER_EPOCH,callbacks=[checkpoint_callback])"
      ],
      "metadata": {
        "colab": {
          "base_uri": "https://localhost:8080/"
        },
        "id": "yVTb53hoblwT",
        "outputId": "12b7d22f-6286-489a-9ced-db41cdb87b70"
      },
      "execution_count": null,
      "outputs": [
        {
          "output_type": "stream",
          "name": "stdout",
          "text": [
            "Epoch 1/50\n",
            "10/10 [==============================] - 81s 8s/step - loss: 2.4058\n",
            "Epoch 2/50\n",
            "10/10 [==============================] - 83s 8s/step - loss: 2.3382\n",
            "Epoch 3/50\n",
            "10/10 [==============================] - 80s 8s/step - loss: 2.3685\n",
            "Epoch 4/50\n",
            "10/10 [==============================] - 77s 8s/step - loss: 2.3459\n",
            "Epoch 5/50\n",
            "10/10 [==============================] - 81s 8s/step - loss: 2.3368\n",
            "Epoch 6/50\n",
            "10/10 [==============================] - 82s 8s/step - loss: 2.2597\n",
            "Epoch 7/50\n",
            "10/10 [==============================] - 82s 8s/step - loss: 2.2987\n",
            "Epoch 8/50\n",
            "10/10 [==============================] - 85s 8s/step - loss: 2.3355\n",
            "Epoch 9/50\n",
            "10/10 [==============================] - 81s 8s/step - loss: 2.3107\n",
            "Epoch 10/50\n",
            "10/10 [==============================] - 79s 8s/step - loss: 2.1904\n",
            "Epoch 11/50\n",
            "10/10 [==============================] - 80s 8s/step - loss: 2.2733\n",
            "Epoch 12/50\n",
            "10/10 [==============================] - 82s 8s/step - loss: 2.2426\n",
            "Epoch 13/50\n",
            "10/10 [==============================] - 79s 8s/step - loss: 2.1948\n",
            "Epoch 14/50\n",
            "10/10 [==============================] - 83s 8s/step - loss: 2.3286\n",
            "Epoch 15/50\n",
            "10/10 [==============================] - 81s 8s/step - loss: 2.2405\n",
            "Epoch 16/50\n",
            "10/10 [==============================] - 78s 8s/step - loss: 2.2833\n",
            "Epoch 17/50\n",
            "10/10 [==============================] - 79s 8s/step - loss: 2.2587\n",
            "Epoch 18/50\n",
            "10/10 [==============================] - 88s 9s/step - loss: 2.1653\n",
            "Epoch 19/50\n",
            "10/10 [==============================] - 77s 8s/step - loss: 1.9955\n",
            "Epoch 20/50\n",
            "10/10 [==============================] - 76s 8s/step - loss: 2.3458\n",
            "Epoch 21/50\n",
            "10/10 [==============================] - 77s 8s/step - loss: 2.4471\n",
            "Epoch 22/50\n",
            "10/10 [==============================] - 74s 7s/step - loss: 2.2880\n",
            "Epoch 23/50\n",
            "10/10 [==============================] - 82s 8s/step - loss: 2.2320\n",
            "Epoch 24/50\n",
            "10/10 [==============================] - 78s 8s/step - loss: 2.1600\n",
            "Epoch 25/50\n",
            "10/10 [==============================] - 80s 8s/step - loss: 2.1992\n",
            "Epoch 26/50\n",
            "10/10 [==============================] - 85s 9s/step - loss: 2.1981\n",
            "Epoch 27/50\n",
            "10/10 [==============================] - 82s 8s/step - loss: 2.1583\n",
            "Epoch 28/50\n",
            "10/10 [==============================] - 77s 8s/step - loss: 2.1047\n",
            "Epoch 29/50\n",
            "10/10 [==============================] - 78s 8s/step - loss: 2.1266\n",
            "Epoch 30/50\n",
            "10/10 [==============================] - 77s 8s/step - loss: 2.1899\n",
            "Epoch 31/50\n",
            "10/10 [==============================] - 77s 8s/step - loss: 2.1350\n",
            "Epoch 32/50\n",
            "10/10 [==============================] - 77s 8s/step - loss: 2.0351\n",
            "Epoch 33/50\n",
            "10/10 [==============================] - 78s 8s/step - loss: 2.1027\n",
            "Epoch 34/50\n",
            "10/10 [==============================] - 78s 8s/step - loss: 2.0946\n",
            "Epoch 35/50\n",
            "10/10 [==============================] - 80s 8s/step - loss: 2.0361\n",
            "Epoch 36/50\n",
            "10/10 [==============================] - 80s 8s/step - loss: 2.1192\n",
            "Epoch 37/50\n",
            "10/10 [==============================] - 79s 8s/step - loss: 2.0865\n",
            "Epoch 38/50\n",
            "10/10 [==============================] - 77s 8s/step - loss: 2.0990\n",
            "Epoch 39/50\n",
            "10/10 [==============================] - 78s 8s/step - loss: 2.0943\n",
            "Epoch 40/50\n",
            "10/10 [==============================] - 74s 7s/step - loss: 1.9841\n",
            "Epoch 41/50\n",
            "10/10 [==============================] - 80s 8s/step - loss: 1.8051\n",
            "Epoch 42/50\n",
            "10/10 [==============================] - 78s 8s/step - loss: 2.1631\n",
            "Epoch 43/50\n",
            "10/10 [==============================] - 77s 8s/step - loss: 2.1806\n",
            "Epoch 44/50\n",
            "10/10 [==============================] - 76s 8s/step - loss: 2.1211\n",
            "Epoch 45/50\n",
            "10/10 [==============================] - 78s 8s/step - loss: 2.0691\n",
            "Epoch 46/50\n",
            "10/10 [==============================] - 75s 7s/step - loss: 2.0339\n",
            "Epoch 47/50\n",
            "10/10 [==============================] - 77s 8s/step - loss: 2.0453\n",
            "Epoch 48/50\n",
            "10/10 [==============================] - 77s 8s/step - loss: 2.0583\n",
            "Epoch 49/50\n",
            "10/10 [==============================] - 78s 8s/step - loss: 2.0199\n",
            "Epoch 50/50\n",
            "10/10 [==============================] - 84s 8s/step - loss: 1.9498\n"
          ]
        }
      ]
    },
    {
      "cell_type": "markdown",
      "source": [
        "Using a Keras Long Short-Term Memory (LSTM) Model to Predict Stock Prices.It is a variation of a recurrent neural network (RNN) that is quite effective in predicting the long sequences of data like sentences and stock prices over a period of time.\n",
        "\n",
        "RNN layer uses a for loop to iterate over the timesteps of a sequence, while maintaining an internal state that encodes information about the timesteps it has seen so far. \n",
        "\n",
        "Embedding layer: It enables us to convert each word into a fixed length vector of defined size.\n",
        "\n",
        "Dense Layer: It is a normal fully connected layer in a neuronal network.It is used to classify image based on output from convolutional layers."
      ],
      "metadata": {
        "id": "ptKcw4_M9EHh"
      }
    },
    {
      "cell_type": "code",
      "source": [
        "tf.train.latest_checkpoint(checkpoint_dir)\n",
        "model = build_model(vocab_size, embedding_dim, rnn_units, batch_size=1)\n",
        "model.load_weights(tf.train.latest_checkpoint(checkpoint_dir))\n",
        "model.build(tf.TensorShape([1, None]))\n",
        "model.summary()"
      ],
      "metadata": {
        "colab": {
          "base_uri": "https://localhost:8080/"
        },
        "id": "enqx2nhOaCBt",
        "outputId": "5410a66a-27eb-4433-ea09-bd66206e8525"
      },
      "execution_count": null,
      "outputs": [
        {
          "output_type": "stream",
          "name": "stdout",
          "text": [
            "Model: \"sequential_1\"\n",
            "_________________________________________________________________\n",
            " Layer (type)                Output Shape              Param #   \n",
            "=================================================================\n",
            " embedding_1 (Embedding)     (1, None, 256)            101376    \n",
            "                                                                 \n",
            " lstm_1 (LSTM)               (1, None, 1024)           5246976   \n",
            "                                                                 \n",
            " dense_1 (Dense)             (1, None, 396)            405900    \n",
            "                                                                 \n",
            "=================================================================\n",
            "Total params: 5,754,252\n",
            "Trainable params: 5,754,252\n",
            "Non-trainable params: 0\n",
            "_________________________________________________________________\n"
          ]
        }
      ]
    },
    {
      "cell_type": "markdown",
      "source": [
        "Number of characters are generated then converted our start string to numbers.\n",
        "we used temperature=0.4 to get results in most predictable text.\n",
        "Categorical distribution is used to predict the character.\n",
        "Here,predicted character passed as the next input to the modelalong with the previous hidden state."
      ],
      "metadata": {
        "id": "84Ik1WK6-_lf"
      }
    },
    {
      "cell_type": "code",
      "source": [
        "def generate_text(model, start_string):\n",
        "  num_generate = 1000\n",
        "  input_eval = [char2idx[s] for s in start_string]\n",
        "  input_eval = tf.expand_dims(input_eval, 0)\n",
        "  text_generated = []\n",
        "  temperature = 0.4\n",
        "  model.reset_states()\n",
        "  for i in range(num_generate):\n",
        "    predictions = model(input_eval)\n",
        "    predictions = tf.squeeze(predictions, 0)\n",
        "    predictions = predictions / temperature\n",
        "    predicted_id = tf.random.categorical(predictions, num_samples=1)[-1,0].numpy()\n",
        "    input_eval = tf.expand_dims([predicted_id], 0)\n",
        "    text_generated.append(idx2char[predicted_id])\n",
        "  return (start_string + ''.join(text_generated))"
      ],
      "metadata": {
        "id": "wwECCFv7CtwA"
      },
      "execution_count": null,
      "outputs": []
    },
    {
      "cell_type": "markdown",
      "source": [
        "Print the text"
      ],
      "metadata": {
        "id": "_ldJbxZmBHw2"
      }
    },
    {
      "cell_type": "code",
      "source": [
        "print(generate_text(model, start_string=u\"Science is\"))"
      ],
      "metadata": {
        "colab": {
          "base_uri": "https://localhost:8080/"
        },
        "id": "ljeg59UoaHka",
        "outputId": "0e911940-5d62-4d74-ced0-c27d0e31b8e7"
      },
      "execution_count": null,
      "outputs": [
        {
          "output_type": "stream",
          "name": "stdout",
          "text": [
            "Science is a site and the south School, and the tour the American states the tour the served be the served in the secords in the earned and the eards in the more of the played the early been the for a distory of the fings of the consident with streated to the prose to a support the finst with the countion of the soured the films the consident of the bound reague in the sears and the sure and are an into the including the exter to count to the ore in the bling and the for the previnal contrict of the sup to the signed the seated the served of the and the Right of the Roge was betan a sillers in the eard with the stering the support of the singer the tour the season of the town as the strough and the furst the the feature the served to the south of the served and the searsher to the contround and the light the was esting the east in the are and the propection of the strand been enting the site of the served the and the seave the town and a specied in the controduction of the in the contriction and\n"
          ]
        }
      ]
    }
  ]
}